{
 "cells": [
  {
   "cell_type": "code",
   "execution_count": 15,
   "id": "6ca222a1-97f6-4d14-a63e-1f027201c7a3",
   "metadata": {},
   "outputs": [],
   "source": [
    "from geminiapikey import google_api_key"
   ]
  },
  {
   "cell_type": "code",
   "execution_count": 16,
   "id": "abaaa515-5f8f-4a6f-b48f-5a3c225cd497",
   "metadata": {},
   "outputs": [],
   "source": [
    "import google.generativeai as genai"
   ]
  },
  {
   "cell_type": "code",
   "execution_count": 17,
   "id": "36bddfaf-d096-4f8a-91d9-108f357beaa8",
   "metadata": {},
   "outputs": [],
   "source": [
    "genai.configure(api_key = google_api_key)"
   ]
  },
  {
   "cell_type": "code",
   "execution_count": 18,
   "id": "30964aba-79bc-46b8-9fb8-7279d2b57739",
   "metadata": {},
   "outputs": [],
   "source": [
    "model = genai.GenerativeModel(\"gemini-1.0-pro\")"
   ]
  },
  {
   "cell_type": "code",
   "execution_count": 19,
   "id": "3ebbe840-1e80-4368-8cfd-c1fbb6871341",
   "metadata": {},
   "outputs": [],
   "source": [
    "chat = model.generate_content(\"Heyy!\")"
   ]
  },
  {
   "cell_type": "code",
   "execution_count": 21,
   "id": "14df0157-1ba7-4d09-9291-c86f3dc0a615",
   "metadata": {},
   "outputs": [
    {
     "name": "stdout",
     "output_type": "stream",
     "text": [
      "Hey there! How can I help you today?\n"
     ]
    }
   ],
   "source": [
    "print(chat.text)"
   ]
  }
 ],
 "metadata": {
  "kernelspec": {
   "display_name": "Python 3 (ipykernel)",
   "language": "python",
   "name": "python3"
  },
  "language_info": {
   "codemirror_mode": {
    "name": "ipython",
    "version": 3
   },
   "file_extension": ".py",
   "mimetype": "text/x-python",
   "name": "python",
   "nbconvert_exporter": "python",
   "pygments_lexer": "ipython3",
   "version": "3.11.1"
  }
 },
 "nbformat": 4,
 "nbformat_minor": 5
}
