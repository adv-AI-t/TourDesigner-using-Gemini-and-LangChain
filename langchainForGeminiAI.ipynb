{
 "cells": [
  {
   "cell_type": "code",
   "execution_count": 1,
   "id": "b736f62a-3d22-4af7-8c82-88d1f4d74a6a",
   "metadata": {},
   "outputs": [],
   "source": [
    "from langchain_google_genai import ChatGoogleGenerativeAI\n",
    "from env.geminiapikey import google_api_key"
   ]
  },
  {
   "cell_type": "code",
   "execution_count": 2,
   "id": "294a5a7d-8f29-4bb0-8d91-abe82f3c70d0",
   "metadata": {},
   "outputs": [],
   "source": [
    "import os\n",
    "os.environ['GOOGLE_API_KEY'] = google_api_key\n",
    "#set environment variable"
   ]
  },
  {
   "cell_type": "code",
   "execution_count": 3,
   "id": "07d88fd9-2e50-442b-ab94-76c933270ded",
   "metadata": {},
   "outputs": [],
   "source": [
    "llm = ChatGoogleGenerativeAI(model = \"gemini-1.0-pro\")\n",
    "#select model, here I am using gemini 1.0 pro which is a stable version"
   ]
  },
  {
   "cell_type": "code",
   "execution_count": 4,
   "id": "18955e82-4c0e-42b1-aa4b-25fbba317f13",
   "metadata": {},
   "outputs": [],
   "source": [
    "from langchain import PromptTemplate"
   ]
  },
  {
   "cell_type": "code",
   "execution_count": 5,
   "id": "bdc52c22-b1f8-40a5-a634-864eb78c196e",
   "metadata": {},
   "outputs": [],
   "source": [
    "city_template = PromptTemplate(\n",
    "input_variables = ['city_name', 'no_of_days'],\n",
    "template = \"Places to visit in {city_name} in {no_of_days} days\",\n",
    ")"
   ]
  },
  {
   "cell_type": "code",
   "execution_count": 6,
   "id": "827aee4d-c9bf-4c5b-9bce-1577dc07f097",
   "metadata": {},
   "outputs": [],
   "source": [
    "food_template = PromptTemplate(\n",
    "input_variables = ['city_name', 'food_type'],\n",
    "template = \"Give a list of only {food_type} food items to try in {city_name} without description\",\n",
    ")"
   ]
  },
  {
   "cell_type": "code",
   "execution_count": 7,
   "id": "2f7c0147-ab83-44e9-968e-6539a04ad887",
   "metadata": {},
   "outputs": [],
   "source": [
    "from langchain.chains import LLMChain"
   ]
  },
  {
   "cell_type": "code",
   "execution_count": 8,
   "id": "2179f555-0a96-4a28-9b37-edf758a21aa3",
   "metadata": {},
   "outputs": [
    {
     "data": {
      "text/plain": [
       "{'city_name': 'Jaipur',\n",
       " 'no_of_days': '3',\n",
       " 'places': '**Day 1**\\n\\n* **Amer Fort:** An iconic hilltop fort with stunning views of the city. Explore its palaces, courtyards, and temples.\\n* **Jal Mahal:** A beautiful palace built in the middle of Man Sagar Lake. Admire its Mughal and Rajput architectural styles.\\n* **City Palace:** The official residence of the Maharaja of Jaipur. Visit its Mubarak Mahal, Chandra Mahal, and Diwan-i-Khas.\\n* **Hawa Mahal:** Known as the \"Palace of Winds,\" this pink sandstone facade has 953 windows.\\n\\n**Day 2**\\n\\n* **Jantar Mantar:** A UNESCO World Heritage Site showcasing a collection of astronomical instruments. Learn about its scientific and architectural marvels.\\n* **Birla Mandir:** A Hindu temple made of white marble. Visit its shrine dedicated to Lord Vishnu and Goddess Lakshmi.\\n* **Nahargarh Fort:** Perched on a hilltop, this fort offers panoramic views of Jaipur. Explore its fortifications, palaces, and temples.\\n* **Chokhi Dhani:** An ethnic village resort that provides an immersive experience of Rajasthani culture. Enjoy traditional food, music, and dance performances.\\n\\n**Day 3**\\n\\n* **Jaigarh Fort:** Connected to Amer Fort by a subterranean passage, Jaigarh Fort houses the world\\'s largest cannon.\\n* **Sisodia Rani Garden and Zoo:** A peaceful garden with a small zoo that features a variety of animals.\\n* **Galtaji Temple:** A sacred pilgrimage site located in a series of natural caves. Visit its holy springs and ancient temples.\\n* **Bazaars of Jaipur:** Explore the vibrant bazaars of Johri Bazaar, Bapu Bazaar, and Tripolia Bazaar for colorful handicrafts, jewelry, and textiles.'}"
      ]
     },
     "execution_count": 8,
     "metadata": {},
     "output_type": "execute_result"
    }
   ],
   "source": [
    "city_chain = LLMChain(llm = llm, prompt = city_template, output_key = \"places\")\n",
    "city_chain.invoke({'city_name' : 'Jaipur', 'no_of_days' :'3'})"
   ]
  },
  {
   "cell_type": "code",
   "execution_count": 9,
   "id": "f4e0485a-25fc-4c2b-aeca-23b356495243",
   "metadata": {},
   "outputs": [
    {
     "data": {
      "text/plain": [
       "{'city_name': 'Jaipur',\n",
       " 'food_type': 'vegetarian',\n",
       " 'food': '- Laal Maas (vegetarian version)\\n- Gatte ki Sabzi\\n- Pyaaz Kachori\\n- Mirchi Vada\\n- Dal Baati Churma\\n- Ghevar\\n- Malpua\\n- Jalebi\\n- Rabri\\n- Kulfi'}"
      ]
     },
     "execution_count": 9,
     "metadata": {},
     "output_type": "execute_result"
    }
   ],
   "source": [
    "food_chain = LLMChain(llm = llm, prompt = food_template, output_key = \"food\")\n",
    "food_chain.invoke({'city_name' : 'Jaipur', 'food_type' : 'vegetarian'})"
   ]
  }
 ],
 "metadata": {
  "kernelspec": {
   "display_name": "Python 3 (ipykernel)",
   "language": "python",
   "name": "python3"
  },
  "language_info": {
   "codemirror_mode": {
    "name": "ipython",
    "version": 3
   },
   "file_extension": ".py",
   "mimetype": "text/x-python",
   "name": "python",
   "nbconvert_exporter": "python",
   "pygments_lexer": "ipython3",
   "version": "3.11.1"
  }
 },
 "nbformat": 4,
 "nbformat_minor": 5
}
