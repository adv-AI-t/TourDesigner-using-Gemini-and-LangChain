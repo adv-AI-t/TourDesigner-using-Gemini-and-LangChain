{
 "cells": [
  {
   "cell_type": "code",
   "execution_count": 89,
   "id": "b736f62a-3d22-4af7-8c82-88d1f4d74a6a",
   "metadata": {},
   "outputs": [],
   "source": [
    "from langchain_google_genai import ChatGoogleGenerativeAI\n",
    "from env.geminiapikey import google_api_key"
   ]
  },
  {
   "cell_type": "code",
   "execution_count": 37,
   "id": "294a5a7d-8f29-4bb0-8d91-abe82f3c70d0",
   "metadata": {},
   "outputs": [],
   "source": [
    "import os\n",
    "os.environ['GOOGLE_API_KEY'] = google_api_key"
   ]
  },
  {
   "cell_type": "code",
   "execution_count": 38,
   "id": "07d88fd9-2e50-442b-ab94-76c933270ded",
   "metadata": {},
   "outputs": [],
   "source": [
    "llm = ChatGoogleGenerativeAI(model = \"gemini-1.0-pro\")"
   ]
  },
  {
   "cell_type": "code",
   "execution_count": 39,
   "id": "18955e82-4c0e-42b1-aa4b-25fbba317f13",
   "metadata": {},
   "outputs": [],
   "source": [
    "from langchain import PromptTemplate"
   ]
  },
  {
   "cell_type": "code",
   "execution_count": 76,
   "id": "bdc52c22-b1f8-40a5-a634-864eb78c196e",
   "metadata": {},
   "outputs": [],
   "source": [
    "city_template = PromptTemplate(\n",
    "input_variables = ['city_name', 'no_of_days'],\n",
    "template = \"Places to visit in {city_name} in {no_of_days} days\",\n",
    ")"
   ]
  },
  {
   "cell_type": "code",
   "execution_count": 86,
   "id": "827aee4d-c9bf-4c5b-9bce-1577dc07f097",
   "metadata": {},
   "outputs": [],
   "source": [
    "food_template = PromptTemplate(\n",
    "input_variables = ['city_name', 'food_type'],\n",
    "template = \"Give a list of only {food_type} food items to try in {city_name} without description\",\n",
    ")"
   ]
  },
  {
   "cell_type": "code",
   "execution_count": 69,
   "id": "2f7c0147-ab83-44e9-968e-6539a04ad887",
   "metadata": {},
   "outputs": [],
   "source": [
    "from langchain.chains import LLMChain"
   ]
  },
  {
   "cell_type": "code",
   "execution_count": 80,
   "id": "2179f555-0a96-4a28-9b37-edf758a21aa3",
   "metadata": {},
   "outputs": [
    {
     "data": {
      "text/plain": [
       "{'city_name': 'Jaipur',\n",
       " 'no_of_days': '3',\n",
       " 'places': '**Day 1**\\n\\n* **Amber Fort:** A majestic hilltop fort with stunning views of the city. Explore its palaces, halls, and temples.\\n* **Jal Mahal:** A beautiful palace in the middle of Man Sagar Lake. Take a boat ride for a closer look.\\n* **Hawa Mahal (Palace of Winds):** A unique facade with 953 windows that allows the breeze to flow through.\\n\\n**Day 2**\\n\\n* **City Palace:** The former royal residence of the Maharaja of Jaipur. Admire its courtyards, gardens, and the Chandra Mahal.\\n* **Jantar Mantar:** A UNESCO World Heritage Site, this observatory houses 19 astronomical instruments.\\n* **Albert Hall Museum:** A beautiful museum showcasing a vast collection of art, artifacts, and textiles.\\n\\n**Day 3**\\n\\n* **Nahargarh Fort:** Perched on a hilltop, this fort offers panoramic views of Jaipur and the surrounding countryside.\\n* **Jaigarh Fort:** Built to protect the Amber Fort, it houses a massive cannon known as Jaivana.\\n* **Birla Mandir:** A stunning marble temple dedicated to Lord Vishnu and Goddess Lakshmi.'}"
      ]
     },
     "execution_count": 80,
     "metadata": {},
     "output_type": "execute_result"
    }
   ],
   "source": [
    "city_chain = LLMChain(llm = llm, prompt = city_template, output_key = \"places\")\n",
    "city_chain.invoke({'city_name' : 'Jaipur', 'no_of_days' :'3'})"
   ]
  },
  {
   "cell_type": "code",
   "execution_count": 88,
   "id": "f4e0485a-25fc-4c2b-aeca-23b356495243",
   "metadata": {},
   "outputs": [
    {
     "data": {
      "text/plain": [
       "{'city_name': 'Jaipur',\n",
       " 'food_type': 'non vegetarian',\n",
       " 'food': '- Laal Maas\\n- Safed Maas\\n- Keema Baati\\n- Mutton Curry\\n- Chicken Tikka\\n- Tandoori Chicken\\n- Butter Chicken\\n- Mutton Biryani\\n- Chicken Biryani\\n- Egg Curry'}"
      ]
     },
     "execution_count": 88,
     "metadata": {},
     "output_type": "execute_result"
    }
   ],
   "source": [
    "food_chain = LLMChain(llm = llm, prompt = food_template, output_key = \"food\")\n",
    "food_chain.invoke({'city_name' : 'Jaipur', 'food_type' : 'vegetarian'})"
   ]
  },
  {
   "cell_type": "code",
   "execution_count": 65,
   "id": "077fbab3-7e7e-4dda-9186-41f4c9cd03ba",
   "metadata": {},
   "outputs": [],
   "source": []
  }
 ],
 "metadata": {
  "kernelspec": {
   "display_name": "Python 3 (ipykernel)",
   "language": "python",
   "name": "python3"
  },
  "language_info": {
   "codemirror_mode": {
    "name": "ipython",
    "version": 3
   },
   "file_extension": ".py",
   "mimetype": "text/x-python",
   "name": "python",
   "nbconvert_exporter": "python",
   "pygments_lexer": "ipython3",
   "version": "3.11.1"
  }
 },
 "nbformat": 4,
 "nbformat_minor": 5
}
